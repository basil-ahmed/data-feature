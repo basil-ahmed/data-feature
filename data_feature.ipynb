{
  "nbformat": 4,
  "nbformat_minor": 0,
  "metadata": {
    "colab": {
      "provenance": [],
      "authorship_tag": "ABX9TyOQ0HQHvWFgNF1ZNM4DxhAZ",
      "include_colab_link": true
    },
    "kernelspec": {
      "name": "python3",
      "display_name": "Python 3"
    },
    "language_info": {
      "name": "python"
    }
  },
  "cells": [
    {
      "cell_type": "markdown",
      "metadata": {
        "id": "view-in-github",
        "colab_type": "text"
      },
      "source": [
        "<a href=\"https://colab.research.google.com/github/basil-ahmed/data-feature/blob/main/data_feature.ipynb\" target=\"_parent\"><img src=\"https://colab.research.google.com/assets/colab-badge.svg\" alt=\"Open In Colab\"/></a>"
      ]
    },
    {
      "cell_type": "code",
      "execution_count": 2,
      "metadata": {
        "colab": {
          "base_uri": "https://localhost:8080/",
          "height": 557
        },
        "id": "cr-yWJxuXObw",
        "outputId": "7f588b8e-4a65-48a7-cbf4-4ca470623b3e"
      },
      "outputs": [
        {
          "output_type": "stream",
          "name": "stdout",
          "text": [
            "Weather in Boston: overcast clouds\n",
            "Image based on 'overcast clouds' in 'Boston': https://images.pexels.com/photos/17102595/pexels-photo-17102595.jpeg\n"
          ]
        },
        {
          "output_type": "display_data",
          "data": {
            "text/html": [
              "<img src=\"https://images.pexels.com/photos/17102595/pexels-photo-17102595.jpeg\" width=\"600\" height=\"500\"/>"
            ],
            "text/plain": [
              "<IPython.core.display.Image object>"
            ]
          },
          "metadata": {}
        }
      ],
      "source": [
        "import requests\n",
        "from IPython.display import Image, display\n",
        "\n",
        "# Step 1: Get weather data using OpenWeatherMap API\n",
        "def get_weather(city):\n",
        "    api_key = \"API_KEY\"\n",
        "    url = f\"http://api.openweathermap.org/data/2.5/weather?q={city}&appid={api_key}\"\n",
        "    response = requests.get(url)\n",
        "    data = response.json()\n",
        "\n",
        "    if response.status_code == 200:\n",
        "        description = data['weather'][0]['description']\n",
        "        return description\n",
        "    else:\n",
        "        print(f\"Error: {data.get('message', 'Unable to fetch weather data')}\")\n",
        "        return None\n",
        "\n",
        "# Step 2: Get image based on weather description using Pexels API\n",
        "def get_image(query):\n",
        "    api_key = \"API_KEY\"\n",
        "    url = \"https://api.pexels.com/v1/search\"\n",
        "    headers = {\n",
        "        \"Authorization\": api_key\n",
        "    }\n",
        "    params = {\n",
        "        \"query\": query,\n",
        "        \"per_page\": 1\n",
        "    }\n",
        "    response = requests.get(url, headers=headers, params=params)\n",
        "    data = response.json()\n",
        "\n",
        "    if response.status_code == 200 and data['photos']:\n",
        "        image_url = data['photos'][0]['src']['original']\n",
        "        return image_url\n",
        "    else:\n",
        "        return None\n",
        "\n",
        "# Main function: Pipeline of both APIs\n",
        "def weather_image_pipeline(city):\n",
        "    weather_description = get_weather(city)\n",
        "    if weather_description:\n",
        "        print(f\"Weather in {city}: {weather_description}\")\n",
        "        image_url = get_image(weather_description + \" in \" + city)\n",
        "        if image_url:\n",
        "            print(f\"Image based on '{weather_description}' in '{city}': {image_url}\")\n",
        "            display(Image(url=image_url, width=600, height=500))\n",
        "        else:\n",
        "            print(f\"No image found for '{weather_description}'.\")\n",
        "    else:\n",
        "        print(f\"Couldn't retrieve weather data for '{city}'.\")\n",
        "\n",
        "# Example Usage\n",
        "weather_image_pipeline(\"Boston\")\n"
      ]
    }
  ]
}
